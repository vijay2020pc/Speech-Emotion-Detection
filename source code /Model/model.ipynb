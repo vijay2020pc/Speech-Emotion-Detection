{
 "cells": [
  {
   "cell_type": "code",
   "execution_count": 1,
   "id": "ae524048",
   "metadata": {},
   "outputs": [],
   "source": [
    "import pandas as pd\n",
    "import os"
   ]
  },
  {
   "cell_type": "code",
   "execution_count": 2,
   "id": "54dc3f23",
   "metadata": {},
   "outputs": [],
   "source": [
    "import librosa"
   ]
  },
  {
   "cell_type": "code",
   "execution_count": 5,
   "id": "6da97b05",
   "metadata": {},
   "outputs": [],
   "source": [
    "\n",
    "Tess = \"C:/Users/SanthoshkumarSambamo/Downloads/final audio classification/audio detection/model/Tess/\"\n"
   ]
  },
  {
   "cell_type": "code",
   "execution_count": 6,
   "id": "abb0ffc2",
   "metadata": {},
   "outputs": [
    {
     "data": {
      "text/html": [
       "<div>\n",
       "<style scoped>\n",
       "    .dataframe tbody tr th:only-of-type {\n",
       "        vertical-align: middle;\n",
       "    }\n",
       "\n",
       "    .dataframe tbody tr th {\n",
       "        vertical-align: top;\n",
       "    }\n",
       "\n",
       "    .dataframe thead th {\n",
       "        text-align: right;\n",
       "    }\n",
       "</style>\n",
       "<table border=\"1\" class=\"dataframe\">\n",
       "  <thead>\n",
       "    <tr style=\"text-align: right;\">\n",
       "      <th></th>\n",
       "      <th>Emotions</th>\n",
       "      <th>Path</th>\n",
       "    </tr>\n",
       "  </thead>\n",
       "  <tbody>\n",
       "    <tr>\n",
       "      <th>0</th>\n",
       "      <td>angry</td>\n",
       "      <td>C:/Users/SanthoshkumarSambamo/Downloads/final ...</td>\n",
       "    </tr>\n",
       "    <tr>\n",
       "      <th>1</th>\n",
       "      <td>angry</td>\n",
       "      <td>C:/Users/SanthoshkumarSambamo/Downloads/final ...</td>\n",
       "    </tr>\n",
       "    <tr>\n",
       "      <th>2</th>\n",
       "      <td>angry</td>\n",
       "      <td>C:/Users/SanthoshkumarSambamo/Downloads/final ...</td>\n",
       "    </tr>\n",
       "    <tr>\n",
       "      <th>3</th>\n",
       "      <td>angry</td>\n",
       "      <td>C:/Users/SanthoshkumarSambamo/Downloads/final ...</td>\n",
       "    </tr>\n",
       "    <tr>\n",
       "      <th>4</th>\n",
       "      <td>angry</td>\n",
       "      <td>C:/Users/SanthoshkumarSambamo/Downloads/final ...</td>\n",
       "    </tr>\n",
       "  </tbody>\n",
       "</table>\n",
       "</div>"
      ],
      "text/plain": [
       "  Emotions                                               Path\n",
       "0    angry  C:/Users/SanthoshkumarSambamo/Downloads/final ...\n",
       "1    angry  C:/Users/SanthoshkumarSambamo/Downloads/final ...\n",
       "2    angry  C:/Users/SanthoshkumarSambamo/Downloads/final ...\n",
       "3    angry  C:/Users/SanthoshkumarSambamo/Downloads/final ...\n",
       "4    angry  C:/Users/SanthoshkumarSambamo/Downloads/final ..."
      ]
     },
     "execution_count": 6,
     "metadata": {},
     "output_type": "execute_result"
    }
   ],
   "source": [
    "tess_directory_list = os.listdir(Tess)\n",
    "\n",
    "file_emotion = []\n",
    "file_path = []\n",
    "\n",
    "for dir in tess_directory_list:\n",
    "    directories = os.listdir(Tess + dir)\n",
    "    for file in directories:\n",
    "        part = file.split('.')[0]\n",
    "        part = part.split('_')[2]\n",
    "        if part=='ps':\n",
    "            file_emotion.append('surprise')\n",
    "        else:\n",
    "            file_emotion.append(part)\n",
    "        file_path.append(Tess + dir + '/' + file)\n",
    "        \n",
    "# dataframe for emotion of files\n",
    "emotion_df = pd.DataFrame(file_emotion, columns=['Emotions'])\n",
    "\n",
    "# dataframe for path of files.\n",
    "path_df = pd.DataFrame(file_path, columns=['Path'])\n",
    "Tess_df = pd.concat([emotion_df, path_df], axis=1)\n",
    "Tess_df.head()"
   ]
  },
  {
   "cell_type": "code",
   "execution_count": 7,
   "id": "2657e5d2",
   "metadata": {},
   "outputs": [
    {
     "data": {
      "text/plain": [
       "angry       400\n",
       "disgust     400\n",
       "fear        400\n",
       "happy       400\n",
       "neutral     400\n",
       "surprise    400\n",
       "sad         400\n",
       "Name: Emotions, dtype: int64"
      ]
     },
     "execution_count": 7,
     "metadata": {},
     "output_type": "execute_result"
    }
   ],
   "source": [
    "Tess_df['Emotions'].value_counts()"
   ]
  },
  {
   "cell_type": "code",
   "execution_count": 8,
   "id": "1903d0ef",
   "metadata": {},
   "outputs": [],
   "source": [
    "def features_extractor(file):\n",
    "    audio, sample_rate = librosa.load(file_name, res_type='kaiser_fast') \n",
    "    mfccs_features = librosa.feature.mfcc(y=audio, sr=sample_rate, n_mfcc=40)\n",
    "    mfccs_scaled_features = np.mean(mfccs_features.T,axis=0)\n",
    "    \n",
    "    return mfccs_scaled_features"
   ]
  },
  {
   "cell_type": "code",
   "execution_count": 9,
   "id": "6d35c759",
   "metadata": {},
   "outputs": [
    {
     "name": "stderr",
     "output_type": "stream",
     "text": [
      "2800it [01:07, 41.41it/s]\n"
     ]
    }
   ],
   "source": [
    "import numpy as np\n",
    "from tqdm import tqdm\n",
    "### Now we iterate through every audio file and extract features \n",
    "### using Mel-Frequency Cepstral Coefficients\n",
    "extracted_features=[]\n",
    "for index_num,row in tqdm(Tess_df.iterrows()):\n",
    "    file_name = os.path.join(os.path.abspath(Tess),str(row[\"Path\"]))\n",
    "    final_class_labels=row[\"Emotions\"]\n",
    "    data=features_extractor(file_name)\n",
    "    extracted_features.append([data,final_class_labels])"
   ]
  },
  {
   "cell_type": "code",
   "execution_count": 10,
   "id": "98b93185",
   "metadata": {},
   "outputs": [
    {
     "data": {
      "text/html": [
       "<div>\n",
       "<style scoped>\n",
       "    .dataframe tbody tr th:only-of-type {\n",
       "        vertical-align: middle;\n",
       "    }\n",
       "\n",
       "    .dataframe tbody tr th {\n",
       "        vertical-align: top;\n",
       "    }\n",
       "\n",
       "    .dataframe thead th {\n",
       "        text-align: right;\n",
       "    }\n",
       "</style>\n",
       "<table border=\"1\" class=\"dataframe\">\n",
       "  <thead>\n",
       "    <tr style=\"text-align: right;\">\n",
       "      <th></th>\n",
       "      <th>Path</th>\n",
       "      <th>Emotions</th>\n",
       "    </tr>\n",
       "  </thead>\n",
       "  <tbody>\n",
       "    <tr>\n",
       "      <th>0</th>\n",
       "      <td>[-387.35645, 58.00525, -23.070848, -6.4950075,...</td>\n",
       "      <td>angry</td>\n",
       "    </tr>\n",
       "    <tr>\n",
       "      <th>1</th>\n",
       "      <td>[-448.57208, 70.98286, -8.170729, -14.899887, ...</td>\n",
       "      <td>angry</td>\n",
       "    </tr>\n",
       "    <tr>\n",
       "      <th>2</th>\n",
       "      <td>[-407.019, 33.079754, -11.734395, 6.1423593, -...</td>\n",
       "      <td>angry</td>\n",
       "    </tr>\n",
       "    <tr>\n",
       "      <th>3</th>\n",
       "      <td>[-387.9774, 58.727615, -17.779144, -7.8950744,...</td>\n",
       "      <td>angry</td>\n",
       "    </tr>\n",
       "    <tr>\n",
       "      <th>4</th>\n",
       "      <td>[-402.43118, 57.398098, -2.0817034, 13.913458,...</td>\n",
       "      <td>angry</td>\n",
       "    </tr>\n",
       "  </tbody>\n",
       "</table>\n",
       "</div>"
      ],
      "text/plain": [
       "                                                Path Emotions\n",
       "0  [-387.35645, 58.00525, -23.070848, -6.4950075,...    angry\n",
       "1  [-448.57208, 70.98286, -8.170729, -14.899887, ...    angry\n",
       "2  [-407.019, 33.079754, -11.734395, 6.1423593, -...    angry\n",
       "3  [-387.9774, 58.727615, -17.779144, -7.8950744,...    angry\n",
       "4  [-402.43118, 57.398098, -2.0817034, 13.913458,...    angry"
      ]
     },
     "execution_count": 10,
     "metadata": {},
     "output_type": "execute_result"
    }
   ],
   "source": [
    "extracted_features_df=pd.DataFrame(extracted_features,columns=['Path','Emotions'])\n",
    "extracted_features_df.head()\n",
    "# Storing the dataframe to pickle for further processing\n",
    "extracted_features_df.to_pickle(\"extracted_df.pkl\")\n",
    "extracted_features_df.head()"
   ]
  },
  {
   "cell_type": "code",
   "execution_count": 11,
   "id": "07cf10f5",
   "metadata": {},
   "outputs": [],
   "source": [
    "final = pd.read_pickle(\"./extracted_df.pkl\")\n",
    "X = np.array(final[\"Path\"].tolist())\n",
    "y = np.array(final[\"Emotions\"].tolist())"
   ]
  },
  {
   "cell_type": "code",
   "execution_count": 12,
   "id": "66131e8a",
   "metadata": {},
   "outputs": [],
   "source": [
    "        import IPython.display as ipd\n",
    "        import librosa\n",
    "        import librosa.display\n",
    "        import pandas as pd\n",
    "        import os, time, warnings\n",
    "        import seaborn as sns\n",
    "        import numpy as np\n",
    "        from tqdm import tqdm\n",
    "        import matplotlib.pyplot as plt\n",
    "        from sklearn.model_selection import train_test_split\n",
    "        from sklearn.preprocessing import LabelEncoder\n",
    "        from tensorflow.keras.utils import to_categorical\n",
    "        from tensorflow.keras.models import Sequential\n",
    "        from tensorflow.keras.layers import (\n",
    "            Dense,\n",
    "            Conv1D,\n",
    "            MaxPooling1D,\n",
    "            BatchNormalization,\n",
    "            Dropout, \n",
    "            Flatten,\n",
    "            Conv2D,\n",
    "            MaxPool2D,\n",
    "        )"
   ]
  },
  {
   "cell_type": "code",
   "execution_count": 13,
   "id": "09d499c2",
   "metadata": {},
   "outputs": [],
   "source": [
    "le = LabelEncoder()\n",
    "\n",
    "# transform each category with it's respected label\n",
    "Y = to_categorical(le.fit_transform(y))"
   ]
  },
  {
   "cell_type": "code",
   "execution_count": 14,
   "id": "40e67a51",
   "metadata": {},
   "outputs": [
    {
     "name": "stdout",
     "output_type": "stream",
     "text": [
      "Number of training samples =  2520\n",
      "Number of testing samples =  280\n"
     ]
    }
   ],
   "source": [
    "X_train, X_test, y_train, y_test = train_test_split(\n",
    "    X, Y, test_size=0.1, random_state=42\n",
    ")\n",
    "\n",
    "# print the details\n",
    "print(\"Number of training samples = \", X_train.shape[0])\n",
    "print(\"Number of testing samples = \", X_test.shape[0])\n"
   ]
  },
  {
   "cell_type": "code",
   "execution_count": 15,
   "id": "2e6b3899",
   "metadata": {},
   "outputs": [
    {
     "name": "stdout",
     "output_type": "stream",
     "text": [
      "Model: \"sequential\"\n",
      "_________________________________________________________________\n",
      " Layer (type)                Output Shape              Param #   \n",
      "=================================================================\n",
      " dense (Dense)               (None, 1000)              41000     \n",
      "                                                                 \n",
      " dense_1 (Dense)             (None, 750)               750750    \n",
      "                                                                 \n",
      " dense_2 (Dense)             (None, 500)               375500    \n",
      "                                                                 \n",
      " dense_3 (Dense)             (None, 250)               125250    \n",
      "                                                                 \n",
      " dense_4 (Dense)             (None, 100)               25100     \n",
      "                                                                 \n",
      " dense_5 (Dense)             (None, 50)                5050      \n",
      "                                                                 \n",
      " dense_6 (Dense)             (None, 7)                 357       \n",
      "                                                                 \n",
      "=================================================================\n",
      "Total params: 1,323,007\n",
      "Trainable params: 1,323,007\n",
      "Non-trainable params: 0\n",
      "_________________________________________________________________\n"
     ]
    }
   ],
   "source": [
    "\n",
    "num_labels = Y.shape[1]\n",
    "ANN_Model = Sequential()\n",
    "ANN_Model.add(Dense(1000, activation=\"relu\", input_shape=(40,)))\n",
    "ANN_Model.add(Dense(750, activation=\"relu\"))\n",
    "ANN_Model.add(Dense(500, activation=\"relu\"))\n",
    "ANN_Model.add(Dense(250, activation=\"relu\"))\n",
    "ANN_Model.add(Dense(100, activation=\"relu\"))\n",
    "ANN_Model.add(Dense(50, activation=\"relu\"))\n",
    "ANN_Model.add(Dense(num_labels, activation=\"softmax\"))\n",
    "ANN_Model.summary()"
   ]
  },
  {
   "cell_type": "code",
   "execution_count": 16,
   "id": "acfb6c80",
   "metadata": {},
   "outputs": [],
   "source": [
    "ANN_Model.compile(loss='categorical_crossentropy',metrics=['accuracy'],optimizer='adam')\n"
   ]
  },
  {
   "cell_type": "code",
   "execution_count": 17,
   "id": "275abea1",
   "metadata": {},
   "outputs": [
    {
     "name": "stdout",
     "output_type": "stream",
     "text": [
      "Epoch 1/100\n",
      "79/79 [==============================] - 2s 17ms/step - loss: 2.5322 - accuracy: 0.4246 - val_loss: 0.6159 - val_accuracy: 0.7929\n",
      "Epoch 2/100\n",
      "79/79 [==============================] - 1s 13ms/step - loss: 0.4052 - accuracy: 0.8710 - val_loss: 0.1911 - val_accuracy: 0.9321\n",
      "Epoch 3/100\n",
      "79/79 [==============================] - 1s 12ms/step - loss: 0.1732 - accuracy: 0.9440 - val_loss: 0.1494 - val_accuracy: 0.9571\n",
      "Epoch 4/100\n",
      "79/79 [==============================] - 1s 13ms/step - loss: 0.1085 - accuracy: 0.9623 - val_loss: 0.0806 - val_accuracy: 0.9679\n",
      "Epoch 5/100\n",
      "79/79 [==============================] - 1s 13ms/step - loss: 0.0547 - accuracy: 0.9825 - val_loss: 0.0728 - val_accuracy: 0.9750\n",
      "Epoch 6/100\n",
      "79/79 [==============================] - 1s 13ms/step - loss: 0.0488 - accuracy: 0.9845 - val_loss: 0.0593 - val_accuracy: 0.9786\n",
      "Epoch 7/100\n",
      "79/79 [==============================] - 1s 12ms/step - loss: 0.0614 - accuracy: 0.9786 - val_loss: 0.3622 - val_accuracy: 0.9179\n",
      "Epoch 8/100\n",
      "79/79 [==============================] - 1s 12ms/step - loss: 0.0616 - accuracy: 0.9825 - val_loss: 0.0824 - val_accuracy: 0.9786\n",
      "Epoch 9/100\n",
      "79/79 [==============================] - 1s 13ms/step - loss: 0.0457 - accuracy: 0.9833 - val_loss: 0.0571 - val_accuracy: 0.9786\n",
      "Epoch 10/100\n",
      "79/79 [==============================] - 1s 13ms/step - loss: 0.0314 - accuracy: 0.9893 - val_loss: 0.1050 - val_accuracy: 0.9714\n",
      "Epoch 11/100\n",
      "79/79 [==============================] - 1s 14ms/step - loss: 0.0550 - accuracy: 0.9817 - val_loss: 0.0494 - val_accuracy: 0.9893\n",
      "Epoch 12/100\n",
      "79/79 [==============================] - 1s 13ms/step - loss: 0.0250 - accuracy: 0.9913 - val_loss: 0.0647 - val_accuracy: 0.9786\n",
      "Epoch 13/100\n",
      "79/79 [==============================] - 1s 14ms/step - loss: 0.0319 - accuracy: 0.9909 - val_loss: 0.0368 - val_accuracy: 0.9857\n",
      "Epoch 14/100\n",
      "79/79 [==============================] - 1s 14ms/step - loss: 0.0502 - accuracy: 0.9821 - val_loss: 0.0947 - val_accuracy: 0.9679\n",
      "Epoch 15/100\n",
      "79/79 [==============================] - 1s 14ms/step - loss: 0.0532 - accuracy: 0.9829 - val_loss: 0.0443 - val_accuracy: 0.9857\n",
      "Epoch 16/100\n",
      "79/79 [==============================] - 1s 13ms/step - loss: 0.0108 - accuracy: 0.9968 - val_loss: 0.0261 - val_accuracy: 0.9893\n",
      "Epoch 17/100\n",
      "79/79 [==============================] - 1s 13ms/step - loss: 0.0059 - accuracy: 0.9976 - val_loss: 0.0497 - val_accuracy: 0.9893\n",
      "Epoch 18/100\n",
      "79/79 [==============================] - 1s 13ms/step - loss: 0.0169 - accuracy: 0.9940 - val_loss: 0.0264 - val_accuracy: 0.9857\n",
      "Epoch 19/100\n",
      "79/79 [==============================] - 1s 13ms/step - loss: 0.0036 - accuracy: 0.9988 - val_loss: 0.0229 - val_accuracy: 0.9893\n",
      "Epoch 20/100\n",
      "79/79 [==============================] - 1s 12ms/step - loss: 0.0016 - accuracy: 0.9996 - val_loss: 0.0289 - val_accuracy: 0.9857\n",
      "Epoch 21/100\n",
      "79/79 [==============================] - 1s 13ms/step - loss: 6.9884e-04 - accuracy: 1.0000 - val_loss: 0.0864 - val_accuracy: 0.9821\n",
      "Epoch 22/100\n",
      "79/79 [==============================] - 1s 13ms/step - loss: 0.0318 - accuracy: 0.9897 - val_loss: 0.0757 - val_accuracy: 0.9714\n",
      "Epoch 23/100\n",
      "79/79 [==============================] - 1s 16ms/step - loss: 0.0140 - accuracy: 0.9968 - val_loss: 0.0445 - val_accuracy: 0.9857\n",
      "Epoch 24/100\n",
      "79/79 [==============================] - 1s 14ms/step - loss: 9.3677e-04 - accuracy: 1.0000 - val_loss: 0.0381 - val_accuracy: 0.9893\n",
      "Epoch 25/100\n",
      "79/79 [==============================] - 1s 13ms/step - loss: 4.9395e-04 - accuracy: 1.0000 - val_loss: 0.0451 - val_accuracy: 0.9857\n",
      "Epoch 26/100\n",
      "79/79 [==============================] - 1s 13ms/step - loss: 0.0276 - accuracy: 0.9929 - val_loss: 0.0291 - val_accuracy: 0.9821\n",
      "Epoch 27/100\n",
      "79/79 [==============================] - 1s 13ms/step - loss: 0.0918 - accuracy: 0.9810 - val_loss: 0.0307 - val_accuracy: 0.9929\n",
      "Epoch 28/100\n",
      "79/79 [==============================] - 1s 14ms/step - loss: 0.0229 - accuracy: 0.9940 - val_loss: 0.0150 - val_accuracy: 0.9964\n",
      "Epoch 29/100\n",
      "79/79 [==============================] - 1s 14ms/step - loss: 0.0455 - accuracy: 0.9921 - val_loss: 0.0590 - val_accuracy: 0.9821\n",
      "Epoch 30/100\n",
      "79/79 [==============================] - 1s 14ms/step - loss: 0.0165 - accuracy: 0.9952 - val_loss: 0.0234 - val_accuracy: 0.9929\n",
      "Epoch 31/100\n",
      "79/79 [==============================] - 1s 14ms/step - loss: 0.0037 - accuracy: 0.9988 - val_loss: 0.0562 - val_accuracy: 0.9893\n",
      "Epoch 32/100\n",
      "79/79 [==============================] - 1s 13ms/step - loss: 0.0081 - accuracy: 0.9988 - val_loss: 0.5232 - val_accuracy: 0.9250\n",
      "Epoch 33/100\n",
      "79/79 [==============================] - 1s 16ms/step - loss: 0.0523 - accuracy: 0.9849 - val_loss: 0.0611 - val_accuracy: 0.9821\n",
      "Epoch 34/100\n",
      "79/79 [==============================] - 1s 13ms/step - loss: 0.0047 - accuracy: 0.9984 - val_loss: 0.0342 - val_accuracy: 0.9893\n",
      "Epoch 35/100\n",
      "79/79 [==============================] - 1s 16ms/step - loss: 0.0202 - accuracy: 0.9956 - val_loss: 0.0592 - val_accuracy: 0.9786\n",
      "Epoch 36/100\n",
      "79/79 [==============================] - 1s 14ms/step - loss: 0.0380 - accuracy: 0.9909 - val_loss: 0.0350 - val_accuracy: 0.9893\n",
      "Epoch 37/100\n",
      "79/79 [==============================] - 1s 14ms/step - loss: 0.0137 - accuracy: 0.9960 - val_loss: 0.1921 - val_accuracy: 0.9500\n",
      "Epoch 38/100\n",
      "79/79 [==============================] - 1s 14ms/step - loss: 0.0246 - accuracy: 0.9909 - val_loss: 0.0350 - val_accuracy: 0.9964\n",
      "Epoch 39/100\n",
      "79/79 [==============================] - 1s 15ms/step - loss: 0.0195 - accuracy: 0.9948 - val_loss: 0.0458 - val_accuracy: 0.9821\n",
      "Epoch 40/100\n",
      "79/79 [==============================] - 1s 13ms/step - loss: 0.0038 - accuracy: 0.9988 - val_loss: 0.0418 - val_accuracy: 0.9893\n",
      "Epoch 41/100\n",
      "79/79 [==============================] - 1s 15ms/step - loss: 0.0028 - accuracy: 0.9988 - val_loss: 0.0218 - val_accuracy: 0.9964\n",
      "Epoch 42/100\n",
      "79/79 [==============================] - 1s 18ms/step - loss: 8.4032e-05 - accuracy: 1.0000 - val_loss: 0.0196 - val_accuracy: 0.9964\n",
      "Epoch 43/100\n",
      "79/79 [==============================] - 1s 17ms/step - loss: 2.2653e-05 - accuracy: 1.0000 - val_loss: 0.0218 - val_accuracy: 0.9964\n",
      "Epoch 44/100\n",
      "79/79 [==============================] - 1s 18ms/step - loss: 1.1217e-05 - accuracy: 1.0000 - val_loss: 0.0228 - val_accuracy: 0.9964\n",
      "Epoch 45/100\n",
      "79/79 [==============================] - 1s 16ms/step - loss: 6.6119e-06 - accuracy: 1.0000 - val_loss: 0.0247 - val_accuracy: 0.9964\n",
      "Epoch 46/100\n",
      "79/79 [==============================] - 1s 14ms/step - loss: 3.7667e-06 - accuracy: 1.0000 - val_loss: 0.0269 - val_accuracy: 0.9964\n",
      "Epoch 47/100\n",
      "79/79 [==============================] - 1s 12ms/step - loss: 2.0873e-06 - accuracy: 1.0000 - val_loss: 0.0281 - val_accuracy: 0.9964\n",
      "Epoch 48/100\n",
      "79/79 [==============================] - 1s 17ms/step - loss: 8.4900e-07 - accuracy: 1.0000 - val_loss: 0.0291 - val_accuracy: 0.9964\n",
      "Epoch 49/100\n",
      "79/79 [==============================] - 1s 14ms/step - loss: 4.7649e-07 - accuracy: 1.0000 - val_loss: 0.0299 - val_accuracy: 0.9964\n",
      "Epoch 50/100\n",
      "79/79 [==============================] - 1s 14ms/step - loss: 3.2782e-07 - accuracy: 1.0000 - val_loss: 0.0303 - val_accuracy: 0.9964\n",
      "Epoch 51/100\n",
      "79/79 [==============================] - 1s 12ms/step - loss: 2.4428e-07 - accuracy: 1.0000 - val_loss: 0.0308 - val_accuracy: 0.9964\n",
      "Epoch 52/100\n",
      "79/79 [==============================] - 1s 13ms/step - loss: 1.9324e-07 - accuracy: 1.0000 - val_loss: 0.0312 - val_accuracy: 0.9964\n",
      "Epoch 53/100\n",
      "79/79 [==============================] - 1s 12ms/step - loss: 1.5757e-07 - accuracy: 1.0000 - val_loss: 0.0316 - val_accuracy: 0.9964\n",
      "Epoch 54/100\n",
      "79/79 [==============================] - 1s 12ms/step - loss: 1.3009e-07 - accuracy: 1.0000 - val_loss: 0.0319 - val_accuracy: 0.9964\n",
      "Epoch 55/100\n",
      "79/79 [==============================] - 1s 12ms/step - loss: 1.0398e-07 - accuracy: 1.0000 - val_loss: 0.0322 - val_accuracy: 0.9964\n",
      "Epoch 56/100\n",
      "79/79 [==============================] - 1s 12ms/step - loss: 7.9425e-08 - accuracy: 1.0000 - val_loss: 0.0325 - val_accuracy: 0.9964\n",
      "Epoch 57/100\n",
      "79/79 [==============================] - 1s 14ms/step - loss: 5.8942e-08 - accuracy: 1.0000 - val_loss: 0.0327 - val_accuracy: 0.9964\n",
      "Epoch 58/100\n",
      "79/79 [==============================] - 1s 13ms/step - loss: 4.7778e-08 - accuracy: 1.0000 - val_loss: 0.0328 - val_accuracy: 0.9964\n",
      "Epoch 59/100\n",
      "79/79 [==============================] - 1s 14ms/step - loss: 4.0304e-08 - accuracy: 1.0000 - val_loss: 0.0329 - val_accuracy: 0.9964\n",
      "Epoch 60/100\n",
      "79/79 [==============================] - 1s 14ms/step - loss: 3.5195e-08 - accuracy: 1.0000 - val_loss: 0.0330 - val_accuracy: 0.9964\n",
      "Epoch 61/100\n",
      "79/79 [==============================] - 1s 12ms/step - loss: 3.1127e-08 - accuracy: 1.0000 - val_loss: 0.0330 - val_accuracy: 0.9964\n",
      "Epoch 62/100\n",
      "79/79 [==============================] - 1s 15ms/step - loss: 2.7626e-08 - accuracy: 1.0000 - val_loss: 0.0331 - val_accuracy: 0.9964\n",
      "Epoch 63/100\n",
      "79/79 [==============================] - 1s 13ms/step - loss: 2.4599e-08 - accuracy: 1.0000 - val_loss: 0.0332 - val_accuracy: 0.9964\n",
      "Epoch 64/100\n",
      "79/79 [==============================] - 1s 13ms/step - loss: 2.2328e-08 - accuracy: 1.0000 - val_loss: 0.0332 - val_accuracy: 0.9964\n",
      "Epoch 65/100\n",
      "79/79 [==============================] - 1s 13ms/step - loss: 2.0152e-08 - accuracy: 1.0000 - val_loss: 0.0333 - val_accuracy: 0.9964\n",
      "Epoch 66/100\n",
      "79/79 [==============================] - 1s 13ms/step - loss: 1.8591e-08 - accuracy: 1.0000 - val_loss: 0.0334 - val_accuracy: 0.9964\n",
      "Epoch 67/100\n",
      "79/79 [==============================] - 1s 13ms/step - loss: 1.6841e-08 - accuracy: 1.0000 - val_loss: 0.0334 - val_accuracy: 0.9964\n",
      "Epoch 68/100\n",
      "79/79 [==============================] - 1s 13ms/step - loss: 1.5280e-08 - accuracy: 1.0000 - val_loss: 0.0335 - val_accuracy: 0.9964\n",
      "Epoch 69/100\n",
      "79/79 [==============================] - 1s 13ms/step - loss: 1.4381e-08 - accuracy: 1.0000 - val_loss: 0.0336 - val_accuracy: 0.9964\n",
      "Epoch 70/100\n",
      "79/79 [==============================] - 1s 12ms/step - loss: 1.3245e-08 - accuracy: 1.0000 - val_loss: 0.0336 - val_accuracy: 0.9964\n",
      "Epoch 71/100\n",
      "79/79 [==============================] - 1s 12ms/step - loss: 1.2347e-08 - accuracy: 1.0000 - val_loss: 0.0337 - val_accuracy: 0.9964\n",
      "Epoch 72/100\n",
      "79/79 [==============================] - 1s 13ms/step - loss: 1.1684e-08 - accuracy: 1.0000 - val_loss: 0.0337 - val_accuracy: 0.9964\n",
      "Epoch 73/100\n",
      "79/79 [==============================] - 1s 13ms/step - loss: 1.0928e-08 - accuracy: 1.0000 - val_loss: 0.0338 - val_accuracy: 0.9964\n",
      "Epoch 74/100\n",
      "79/79 [==============================] - 1s 13ms/step - loss: 1.0407e-08 - accuracy: 1.0000 - val_loss: 0.0339 - val_accuracy: 0.9964\n",
      "Epoch 75/100\n",
      "79/79 [==============================] - 1s 13ms/step - loss: 9.6030e-09 - accuracy: 1.0000 - val_loss: 0.0339 - val_accuracy: 0.9964\n",
      "Epoch 76/100\n",
      "79/79 [==============================] - 1s 12ms/step - loss: 9.2718e-09 - accuracy: 1.0000 - val_loss: 0.0340 - val_accuracy: 0.9964\n",
      "Epoch 77/100\n",
      "79/79 [==============================] - 1s 12ms/step - loss: 8.6569e-09 - accuracy: 1.0000 - val_loss: 0.0340 - val_accuracy: 0.9964\n",
      "Epoch 78/100\n",
      "79/79 [==============================] - 1s 12ms/step - loss: 8.1365e-09 - accuracy: 1.0000 - val_loss: 0.0341 - val_accuracy: 0.9964\n",
      "Epoch 79/100\n",
      "79/79 [==============================] - 1s 12ms/step - loss: 7.5688e-09 - accuracy: 1.0000 - val_loss: 0.0342 - val_accuracy: 0.9964\n",
      "Epoch 80/100\n",
      "79/79 [==============================] - 1s 12ms/step - loss: 7.2377e-09 - accuracy: 1.0000 - val_loss: 0.0343 - val_accuracy: 0.9964\n",
      "Epoch 81/100\n",
      "79/79 [==============================] - 1s 12ms/step - loss: 6.8593e-09 - accuracy: 1.0000 - val_loss: 0.0343 - val_accuracy: 0.9964\n",
      "Epoch 82/100\n",
      "79/79 [==============================] - 1s 12ms/step - loss: 6.4808e-09 - accuracy: 1.0000 - val_loss: 0.0344 - val_accuracy: 0.9964\n",
      "Epoch 83/100\n",
      "79/79 [==============================] - 1s 12ms/step - loss: 5.9605e-09 - accuracy: 1.0000 - val_loss: 0.0345 - val_accuracy: 0.9964\n",
      "Epoch 84/100\n",
      "79/79 [==============================] - 1s 12ms/step - loss: 5.7712e-09 - accuracy: 1.0000 - val_loss: 0.0346 - val_accuracy: 0.9964\n",
      "Epoch 85/100\n",
      "79/79 [==============================] - 1s 12ms/step - loss: 5.5820e-09 - accuracy: 1.0000 - val_loss: 0.0347 - val_accuracy: 0.9964\n",
      "Epoch 86/100\n",
      "79/79 [==============================] - 1s 12ms/step - loss: 5.3928e-09 - accuracy: 1.0000 - val_loss: 0.0348 - val_accuracy: 0.9964\n",
      "Epoch 87/100\n",
      "79/79 [==============================] - 1s 12ms/step - loss: 5.2036e-09 - accuracy: 1.0000 - val_loss: 0.0348 - val_accuracy: 0.9964\n",
      "Epoch 88/100\n",
      "79/79 [==============================] - 1s 12ms/step - loss: 4.8724e-09 - accuracy: 1.0000 - val_loss: 0.0349 - val_accuracy: 0.9964\n",
      "Epoch 89/100\n",
      "79/79 [==============================] - 1s 13ms/step - loss: 4.6832e-09 - accuracy: 1.0000 - val_loss: 0.0350 - val_accuracy: 0.9964\n",
      "Epoch 90/100\n",
      "79/79 [==============================] - 1s 13ms/step - loss: 4.4940e-09 - accuracy: 1.0000 - val_loss: 0.0351 - val_accuracy: 0.9964\n",
      "Epoch 91/100\n",
      "79/79 [==============================] - 1s 13ms/step - loss: 4.3048e-09 - accuracy: 1.0000 - val_loss: 0.0352 - val_accuracy: 0.9964\n",
      "Epoch 92/100\n",
      "79/79 [==============================] - 1s 12ms/step - loss: 4.2575e-09 - accuracy: 1.0000 - val_loss: 0.0353 - val_accuracy: 0.9964\n",
      "Epoch 93/100\n",
      "79/79 [==============================] - 1s 12ms/step - loss: 3.9736e-09 - accuracy: 1.0000 - val_loss: 0.0354 - val_accuracy: 0.9964\n",
      "Epoch 94/100\n",
      "79/79 [==============================] - 1s 12ms/step - loss: 3.8317e-09 - accuracy: 1.0000 - val_loss: 0.0355 - val_accuracy: 0.9964\n",
      "Epoch 95/100\n",
      "79/79 [==============================] - 1s 12ms/step - loss: 3.6898e-09 - accuracy: 1.0000 - val_loss: 0.0356 - val_accuracy: 0.9964\n",
      "Epoch 96/100\n",
      "79/79 [==============================] - 1s 12ms/step - loss: 3.5479e-09 - accuracy: 1.0000 - val_loss: 0.0357 - val_accuracy: 0.9964\n",
      "Epoch 97/100\n",
      "79/79 [==============================] - 1s 13ms/step - loss: 3.4060e-09 - accuracy: 1.0000 - val_loss: 0.0358 - val_accuracy: 0.9964\n",
      "Epoch 98/100\n",
      "79/79 [==============================] - 1s 13ms/step - loss: 3.2168e-09 - accuracy: 1.0000 - val_loss: 0.0359 - val_accuracy: 0.9964\n",
      "Epoch 99/100\n",
      "79/79 [==============================] - 1s 13ms/step - loss: 3.0748e-09 - accuracy: 1.0000 - val_loss: 0.0360 - val_accuracy: 0.9964\n",
      "Epoch 100/100\n",
      "79/79 [==============================] - 1s 13ms/step - loss: 2.8383e-09 - accuracy: 1.0000 - val_loss: 0.0361 - val_accuracy: 0.9964\n",
      "ANN Model Saved\n"
     ]
    }
   ],
   "source": [
    "num_epochs = 100\n",
    "num_batch_size = 32\n",
    "\n",
    "t0 = time.time()\n",
    "\n",
    "history = ANN_Model.fit(\n",
    "    X_train,\n",
    "    y_train,\n",
    "    batch_size=num_batch_size,\n",
    "    epochs=num_epochs,\n",
    "    validation_data=(X_test, y_test),\n",
    ")\n",
    "\n",
    "ANN_Model.save(\"Model1.h5\")\n",
    "print(\"ANN Model Saved\")\n"
   ]
  },
  {
   "cell_type": "code",
   "execution_count": null,
   "id": "eef08250-5ec7-4c96-939f-67a696a62ddc",
   "metadata": {},
   "outputs": [],
   "source": []
  },
  {
   "cell_type": "code",
   "execution_count": 18,
   "id": "e2602ce4",
   "metadata": {},
   "outputs": [
    {
     "data": {
      "image/png": "[encoded data removed]",
      "text/plain": [
       "<Figure size 576x576 with 2 Axes>"
      ]
     },
     "metadata": {
      "needs_background": "light"
     },
     "output_type": "display_data"
    }
   ],
   "source": [
    "acc = [0.] + history.history['accuracy']\n",
    "val_acc = [0.] + history.history['val_accuracy']\n",
    "\n",
    "loss = history.history['loss']\n",
    "val_loss = history.history['val_loss']\n",
    "\n",
    "plt.figure(figsize=(8, 8))\n",
    "plt.subplot(2, 1, 1)\n",
    "plt.plot(acc, label='Training Accuracy')\n",
    "plt.plot(val_acc, label='Validation Accuracy')\n",
    "plt.legend(loc='lower right')\n",
    "plt.ylabel('Accuracy')\n",
    "plt.title('Training and Validation Accuracy')\n",
    "\n",
    "plt.subplot(2, 1, 2)\n",
    "plt.plot(loss, label='Training Loss')\n",
    "plt.plot(val_loss, label='Validation Loss')\n",
    "plt.legend(loc='upper right')\n",
    "plt.ylabel('Cross Entropy')\n",
    "plt.title('Training and Validation Loss')\n",
    "plt.xlabel('epoch')\n",
    "plt.show()"
   ]
  },
  {
   "cell_type": "code",
   "execution_count": 55,
   "id": "7cb964ee-edf1-4d08-8682-1b6d5d460196",
   "metadata": {},
   "outputs": [],
   "source": [
    "emotion_names=extracted_features_df['Emotions'].unique()\n"
   ]
  },
  {
   "cell_type": "code",
   "execution_count": 49,
   "id": "048d61d4-1fb7-4030-bf59-4216db72a38a",
   "metadata": {},
   "outputs": [
    {
     "name": "stdout",
     "output_type": "stream",
     "text": [
      "9/9 [==============================] - 0s 4ms/step\n"
     ]
    },
    {
     "data": {
      "text/plain": [
       "array([6, 3, 3, 6, 2, 1, 5, 0, 4, 6, 6, 6, 3, 6, 3, 2, 3, 5, 1, 6, 5, 0,\n",
       "       2, 5, 3, 2, 6, 4, 0, 5, 4, 2, 0, 3, 3, 2, 1, 4, 0, 5, 2, 0, 3, 1,\n",
       "       5, 2, 0, 4, 5, 3, 1, 4, 4, 2, 6, 6, 2, 4, 2, 1, 6, 5, 5, 4, 6, 4,\n",
       "       0, 1, 5, 3, 6, 2, 1, 6, 0, 5, 4, 5, 3, 0, 3, 0, 0, 5, 5, 4, 1, 1,\n",
       "       5, 2, 1, 3, 6, 4, 0, 5, 4, 6, 6, 3, 3, 5, 6, 6, 5, 3, 5, 2, 3, 5,\n",
       "       4, 4, 4, 0, 3, 2, 0, 0, 6, 2, 3, 5, 4, 0, 3, 5, 0, 5, 3, 6, 6, 2,\n",
       "       1, 6, 6, 0, 3, 0, 6, 4, 0, 6, 4, 4, 0, 5, 4, 0, 4, 3, 5, 6, 4, 5,\n",
       "       6, 6, 3, 3, 3, 1, 4, 2, 4, 1, 1, 1, 4, 0, 0, 6, 0, 1, 1, 2, 1, 3,\n",
       "       4, 0, 6, 0, 4, 6, 0, 3, 5, 5, 5, 1, 4, 1, 2, 0, 1, 4, 2, 6, 5, 4,\n",
       "       2, 6, 6, 6, 2, 5, 3, 5, 2, 2, 3, 4, 0, 0, 3, 5, 2, 0, 2, 0, 5, 5,\n",
       "       5, 1, 2, 4, 3, 5, 0, 3, 6, 2, 5, 5, 0, 6, 2, 1, 2, 2, 3, 6, 5, 4,\n",
       "       0, 2, 1, 0, 1, 4, 5, 4, 3, 6, 2, 2, 6, 1, 6, 3, 2, 4, 6, 4, 1, 0,\n",
       "       3, 2, 1, 5, 6, 0, 3, 1, 4, 2, 3, 5, 0, 5, 4, 5], dtype=int64)"
      ]
     },
     "execution_count": 49,
     "metadata": {},
     "output_type": "execute_result"
    }
   ],
   "source": [
    "y_pred = ANN_Model.predict(X_test)\n",
    "y_pred = np.argmax(y_pred, axis=1)\n",
    "y_pred"
   ]
  },
  {
   "cell_type": "code",
   "execution_count": 50,
   "id": "bfc9aeb9-4769-4f3d-a572-fd209129f0c1",
   "metadata": {},
   "outputs": [
    {
     "data": {
      "text/plain": [
       "array([6, 3, 3, 6, 2, 1, 5, 0, 4, 6, 6, 6, 3, 6, 3, 2, 3, 5, 1, 6, 5, 0,\n",
       "       2, 5, 3, 2, 6, 4, 0, 5, 4, 2, 0, 3, 3, 2, 1, 4, 0, 5, 2, 0, 3, 1,\n",
       "       5, 2, 0, 4, 5, 3, 1, 4, 4, 2, 6, 6, 2, 4, 2, 1, 6, 5, 5, 4, 6, 4,\n",
       "       0, 1, 5, 3, 6, 2, 1, 6, 0, 5, 4, 5, 3, 0, 3, 0, 0, 5, 5, 4, 1, 1,\n",
       "       5, 2, 1, 3, 6, 4, 0, 5, 4, 6, 6, 3, 3, 5, 6, 6, 5, 3, 5, 2, 3, 5,\n",
       "       4, 4, 4, 0, 3, 2, 0, 0, 6, 2, 3, 5, 4, 0, 3, 5, 0, 5, 3, 6, 6, 2,\n",
       "       1, 6, 6, 0, 3, 0, 6, 4, 0, 6, 4, 4, 0, 5, 4, 0, 4, 3, 5, 6, 4, 5,\n",
       "       6, 6, 0, 3, 3, 1, 4, 2, 4, 1, 1, 1, 4, 0, 0, 6, 0, 1, 1, 2, 1, 3,\n",
       "       4, 0, 6, 0, 4, 6, 0, 3, 5, 5, 5, 1, 4, 1, 2, 0, 1, 4, 2, 6, 5, 4,\n",
       "       2, 6, 6, 6, 2, 5, 3, 5, 2, 2, 3, 4, 0, 0, 3, 5, 2, 0, 2, 0, 5, 5,\n",
       "       5, 1, 2, 4, 3, 5, 0, 3, 6, 2, 5, 5, 0, 6, 2, 1, 2, 2, 3, 6, 5, 4,\n",
       "       0, 2, 1, 0, 1, 4, 5, 4, 3, 6, 2, 2, 6, 1, 6, 3, 2, 4, 6, 4, 1, 0,\n",
       "       3, 2, 1, 5, 6, 0, 3, 1, 4, 2, 3, 5, 0, 5, 4, 5], dtype=int64)"
      ]
     },
     "execution_count": 50,
     "metadata": {},
     "output_type": "execute_result"
    }
   ],
   "source": [
    "y_check=np.argmax(y_test,axis=1)\n",
    "y_check"
   ]
  },
  {
   "cell_type": "code",
   "execution_count": 52,
   "id": "16a23b8f-d6c9-4a57-8163-27e96dad09e2",
   "metadata": {},
   "outputs": [
    {
     "name": "stdout",
     "output_type": "stream",
     "text": [
      "Test Loss: 0.036100249737501144\n",
      "Test Accuracy: 0.9964285492897034\n"
     ]
    }
   ],
   "source": [
    "loss,accuracy=ANN_Model.evaluate(X_test,y_test,verbose=0)\n",
    "print(f'Test Loss: {loss}')\n",
    "print(f'Test Accuracy: {accuracy}')"
   ]
  },
  {
   "cell_type": "code",
   "execution_count": 56,
   "id": "62ea95ce-f064-41bb-aa36-7887953492cc",
   "metadata": {},
   "outputs": [
    {
     "data": {
      "image/png": "[encoded data removed]",
      "text/plain": [
       "<Figure size 864x504 with 2 Axes>"
      ]
     },
     "metadata": {
      "needs_background": "light"
     },
     "output_type": "display_data"
    }
   ],
   "source": [
    "conf=confusion_matrix(y_check,y_pred)\n",
    "cm=pd.DataFrame(\n",
    "    conf,index=[i for i in emotion_names],\n",
    "    columns=[i for i in emotion_names]\n",
    ")\n",
    "plt.figure(figsize=(12,7))\n",
    "ax=sns.heatmap(cm,annot=True,fmt='d')\n",
    "ax.set_title(f'confusion matrix for model ')\n",
    "plt.show()"
   ]
  },
  {
   "cell_type": "code",
   "execution_count": 57,
   "id": "e4c0d6f7-7269-4aa9-a6f3-41bf23b1fdcd",
   "metadata": {},
   "outputs": [
    {
     "name": "stdout",
     "output_type": "stream",
     "text": [
      "Model Confusion Matrix\n",
      "               precision    recall  f1-score   support\n",
      "\n",
      "       angry       1.00      0.98      0.99        42\n",
      "     disgust       1.00      1.00      1.00        30\n",
      "        fear       1.00      1.00      1.00        38\n",
      "       happy       0.97      1.00      0.99        39\n",
      "     neutral       1.00      1.00      1.00        41\n",
      "    surprise       1.00      1.00      1.00        46\n",
      "         sad       1.00      1.00      1.00        44\n",
      "\n",
      "    accuracy                           1.00       280\n",
      "   macro avg       1.00      1.00      1.00       280\n",
      "weighted avg       1.00      1.00      1.00       280\n",
      "\n"
     ]
    }
   ],
   "source": [
    "print(f'Model Confusion Matrix\\n',classification_report(y_check,y_pred,target_names=emotion_names))"
   ]
  },
  {
   "cell_type": "code",
   "execution_count": null,
   "id": "7d97be27-bcb0-43b9-9c96-54b09e65806e",
   "metadata": {},
   "outputs": [],
   "source": []
  }
 ],
 "metadata": {
  "kernelspec": {
   "display_name": "Python 3 (ipykernel)",
   "language": "python",
   "name": "python3"
  },
  "language_info": {
   "codemirror_mode": {
    "name": "ipython",
    "version": 3
   },
   "file_extension": ".py",
   "mimetype": "text/x-python",
   "name": "python",
   "nbconvert_exporter": "python",
   "pygments_lexer": "ipython3",
   "version": "3.9.7"
  }
 },
 "nbformat": 4,
 "nbformat_minor": 5
}
